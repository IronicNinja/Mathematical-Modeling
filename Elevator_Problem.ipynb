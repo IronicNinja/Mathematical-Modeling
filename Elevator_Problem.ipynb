{
  "nbformat": 4,
  "nbformat_minor": 0,
  "metadata": {
    "colab": {
      "name": "Elevator Problem",
      "provenance": [],
      "include_colab_link": true
    },
    "kernelspec": {
      "name": "python3",
      "display_name": "Python 3"
    }
  },
  "cells": [
    {
      "cell_type": "markdown",
      "metadata": {
        "id": "view-in-github",
        "colab_type": "text"
      },
      "source": [
        "<a href=\"https://colab.research.google.com/github/IronicNinja/Mathematical-Modeling/blob/master/Elevator_Problem.ipynb\" target=\"_parent\"><img src=\"https://colab.research.google.com/assets/colab-badge.svg\" alt=\"Open In Colab\"/></a>"
      ]
    },
    {
      "cell_type": "code",
      "metadata": {
        "id": "_OzOQZclx7vh",
        "colab": {
          "base_uri": "https://localhost:8080/",
          "height": 299
        },
        "outputId": "ef2f8240-2214-419c-bb22-cb42c46cdb07"
      },
      "source": [
        "### Naive solution: one elevator at a time\n",
        "\n",
        "import random\n",
        "from collections import Counter \n",
        "import scipy.stats\n",
        "import matplotlib.pyplot as plt\n",
        "\n",
        "def countDistinct(arr): \n",
        "    return len(Counter(arr).keys())     \n",
        "\n",
        "total_list = []\n",
        "trips_list = []\n",
        "for x in range(50):\n",
        "  ppl_list = [100, 120, 60, 120, 80, 20]\n",
        "  time_list = []\n",
        "\n",
        "  while True:\n",
        "    nums_list = []\n",
        "    r = 0\n",
        "    while r < 10:\n",
        "      rand_num = random.randint(0, 5)\n",
        "      if ppl_list[rand_num] > 0:\n",
        "        ppl_list[rand_num] -= 1\n",
        "        nums_list.append(rand_num)\n",
        "        r += 1\n",
        "\n",
        "    if len(nums_list) == 0:\n",
        "      break\n",
        "\n",
        "    distinct = countDistinct(nums_list)\n",
        "    biggest = max(nums_list)\n",
        "\n",
        "    time = 15 + 10*distinct + 2*biggest*4\n",
        "    time_list.append(time)\n",
        "\n",
        "    go = True\n",
        "    for u in ppl_list:\n",
        "      if u != 0: \n",
        "        go = False\n",
        "\n",
        "    if go:\n",
        "      break\n",
        "\n",
        "  total = 0\n",
        "  for time in time_list:\n",
        "    total += time\n",
        "\n",
        "  total_list.append(total/4/60)\n",
        "\n",
        "total_list.sort()\n",
        "mean_val = sum(total_list)/len(total_list)\n",
        "print(mean_val)\n",
        "plt.plot(total_list)"
      ],
      "execution_count": null,
      "outputs": [
        {
          "output_type": "stream",
          "text": [
            "19.56283333333333\n"
          ],
          "name": "stdout"
        },
        {
          "output_type": "execute_result",
          "data": {
            "text/plain": [
              "[<matplotlib.lines.Line2D at 0x7fbb6822d240>]"
            ]
          },
          "metadata": {
            "tags": []
          },
          "execution_count": 59
        },
        {
          "output_type": "display_data",
          "data": {
            "image/png": "[encoded data removed]",
            "text/plain": [
              "<Figure size 432x288 with 1 Axes>"
            ]
          },
          "metadata": {
            "tags": [],
            "needs_background": "light"
          }
        }
      ]
    },
    {
      "cell_type": "code",
      "metadata": {
        "id": "WSXL_YFi77XP"
      },
      "source": [
        "### More robust solution: Change the number of people in the ppl_list and change the number of elevators using elev_num\n",
        "\n",
        "import random\n",
        "from collections import Counter \n",
        "import scipy.stats\n",
        "import matplotlib.pyplot as plt\n",
        "\n",
        "def countDistinct(arr): \n",
        "    return len(Counter(arr).keys())     \n",
        "\n",
        "def Finished(ppl_list):\n",
        "    for u in ppl_list:\n",
        "      if u != 0: \n",
        "        return False\n",
        "\n",
        "    return True\n",
        "\n",
        "def ElevatorProblem(ppl_list, elev_num, ppl_per_elev):\n",
        "  time_list = []\n",
        "  elev_list = [0 for i in range(elev_num)]\n",
        "\n",
        "  while True:\n",
        "    index = elev_list.index(min(elev_list))\n",
        "\n",
        "    nums_list = []\n",
        "    r = 0\n",
        "    check = 0\n",
        "    while r < ppl_per_elev:\n",
        "      rand_num = random.randint(0, len(ppl_list)-1)\n",
        "      if ppl_list[rand_num] > 0:\n",
        "        ppl_list[rand_num] -= 1\n",
        "        nums_list.append(rand_num)\n",
        "        r += 1\n",
        "      check += 1\n",
        "      # Check in case too many\n",
        "      if check > ppl_per_elev*2:\n",
        "        if Finished(ppl_list):\n",
        "          break\n",
        "\n",
        "    ### Break if empty list\n",
        "    if len(nums_list) == 0:\n",
        "      break\n",
        "\n",
        "    distinct = countDistinct(nums_list)\n",
        "    biggest = max(nums_list)\n",
        "\n",
        "    time = 15 + 10*distinct + 2*biggest*4\n",
        "    elev_list[index] += time\n",
        "\n",
        "    if Finished(ppl_list):\n",
        "      break\n",
        "\n",
        "  final_time = max(elev_list)\n",
        "  return final_time"
      ],
      "execution_count": null,
      "outputs": []
    },
    {
      "cell_type": "code",
      "metadata": {
        "id": "xVTyIuU7KsTU",
        "colab": {
          "base_uri": "https://localhost:8080/",
          "height": 295
        },
        "outputId": "c9b371e3-927f-499d-ebcc-5b82f883fa42"
      },
      "source": [
        "total_list = []\n",
        "for i in range(5, 15):\n",
        "  tmp_list = []\n",
        "  for x in range(50):\n",
        "    ppl_list = [100, 120, 60, 120, 80, 20]\n",
        "    tmp_list.append(ElevatorProblem(ppl_list, 4, i)/60)\n",
        "  total_list.append(sum(tmp_list)/len(tmp_list))\n",
        "\n",
        "plt.plot([n for n in range(5, 15)], total_list)\n",
        "plt.xlabel(\"Number of People in Elevator\")\n",
        "plt.ylabel(\"Average Time\")\n",
        "plt.title(\"Effect of Number of People in Elevator on the Average Time\")\n",
        "plt.show()"
      ],
      "execution_count": null,
      "outputs": [
        {
          "output_type": "display_data",
          "data": {
            "image/png": "[encoded data removed]",
            "text/plain": [
              "<Figure size 432x288 with 1 Axes>"
            ]
          },
          "metadata": {
            "tags": [],
            "needs_background": "light"
          }
        }
      ]
    },
    {
      "cell_type": "code",
      "metadata": {
        "id": "gtQIS6KA9CyZ",
        "colab": {
          "base_uri": "https://localhost:8080/",
          "height": 285
        },
        "outputId": "5bd9fbcc-d745-4771-eff3-ea89f911815d"
      },
      "source": [
        "elev_num = 4\n",
        "ppl_per_elev = 9\n",
        "total_list = []\n",
        "for i in range(50):\n",
        "  ppl_list = [100, 120, 60, 120, 80, 20]\n",
        "  total_list.append(ElevatorProblem(ppl_list, elev_num, ppl_per_elev)/60)\n",
        "\n",
        "total_list.sort()\n",
        "plt.plot(total_list)\n",
        "avg = sum(total_list)/len(total_list)\n",
        "print(avg)"
      ],
      "execution_count": null,
      "outputs": [
        {
          "output_type": "stream",
          "text": [
            "20.234666666666662\n"
          ],
          "name": "stdout"
        },
        {
          "output_type": "display_data",
          "data": {
            "image/png": "[encoded data removed]",
            "text/plain": [
              "<Figure size 432x288 with 1 Axes>"
            ]
          },
          "metadata": {
            "tags": [],
            "needs_background": "light"
          }
        }
      ]
    },
    {
      "cell_type": "code",
      "metadata": {
        "id": "6MjCDOcKXuFU",
        "colab": {
          "base_uri": "https://localhost:8080/",
          "height": 282
        },
        "outputId": "d958003b-8d94-4cf8-dc8a-bf9cf3aefb97"
      },
      "source": [
        "elev_num = 4\n",
        "ppl_per_elev = 10\n",
        "total_list = []\n",
        "\n",
        "for x in range(50):\n",
        "  ppl_list = [100, 120, 60, 120, 80, 20]\n",
        "    \n",
        "  time_list = []\n",
        "  elev_list = [0 for i in range(elev_num)]\n",
        "\n",
        "  while True:\n",
        "    index = elev_list.index(min(elev_list))\n",
        "\n",
        "    #index 0 -> 1 & 3; 1 -> 2; 2 -> 4; 3 -> 5 & 6\n",
        "    nums_list = []\n",
        "    r = 0\n",
        "    check = 0\n",
        "    while r < ppl_per_elev:\n",
        "      if index == 0 and (ppl_list[0] != 0 or ppl_list[2] != 0):\n",
        "        rand_num = random.randint(0, 2)\n",
        "      elif index == 1 and ppl_list[1] != 0:\n",
        "        rand_num = 1\n",
        "      elif index == 2 and ppl_list[3] != 0: \n",
        "        rand_num = 3\n",
        "      elif index == 3 and (ppl_list[4] != 0 or ppl_list[5] != 0):\n",
        "        rand_num = random.randint(4, 5)\n",
        "      else:\n",
        "        rand_num = random.randint(0, 5)\n",
        "\n",
        "      if ppl_list[rand_num] > 0:\n",
        "        ppl_list[rand_num] -= 1\n",
        "        nums_list.append(rand_num)\n",
        "        r += 1\n",
        "\n",
        "      check += 1\n",
        "      # Check in case too many\n",
        "      if check > ppl_per_elev*2:\n",
        "        if Finished(ppl_list):\n",
        "          break\n",
        "\n",
        "    ### Break if empty list\n",
        "    if len(nums_list) == 0:\n",
        "      break\n",
        "\n",
        "    distinct = countDistinct(nums_list)\n",
        "    biggest = max(nums_list)\n",
        "\n",
        "    time = 15 + 10*distinct + 2*biggest*4\n",
        "    elev_list[index] += time\n",
        "\n",
        "    if Finished(ppl_list):\n",
        "      break\n",
        "\n",
        "  ans = max(elev_list)/60\n",
        "  total_list.append(ans)\n",
        "\n",
        "total_list.sort()\n",
        "plt.plot(total_list)"
      ],
      "execution_count": null,
      "outputs": [
        {
          "output_type": "execute_result",
          "data": {
            "text/plain": [
              "[<matplotlib.lines.Line2D at 0x7f257fcea6a0>]"
            ]
          },
          "metadata": {
            "tags": []
          },
          "execution_count": 2
        },
        {
          "output_type": "display_data",
          "data": {
            "image/png": "[encoded data removed]",
            "text/plain": [
              "<Figure size 432x288 with 1 Axes>"
            ]
          },
          "metadata": {
            "tags": [],
            "needs_background": "light"
          }
        }
      ]
    },
    {
      "cell_type": "code",
      "metadata": {
        "id": "2tweA59-bWWD",
        "colab": {
          "base_uri": "https://localhost:8080/",
          "height": 282
        },
        "outputId": "4d8c162d-3419-4a49-eed5-5868b7f4bf37"
      },
      "source": [
        "import scipy.stats as stats\n",
        "import numpy as np\n",
        "hmean = np.mean(total_list)\n",
        "hstd = np.std(total_list)\n",
        "pdf = stats.norm.pdf(total_list, hmean, hstd)\n",
        "plt.plot(total_list, pdf)"
      ],
      "execution_count": null,
      "outputs": [
        {
          "output_type": "execute_result",
          "data": {
            "text/plain": [
              "[<matplotlib.lines.Line2D at 0x7fbb679c2eb8>]"
            ]
          },
          "metadata": {
            "tags": []
          },
          "execution_count": 134
        },
        {
          "output_type": "display_data",
          "data": {
            "image/png": "[encoded data removed]",
            "text/plain": [
              "<Figure size 432x288 with 1 Axes>"
            ]
          },
          "metadata": {
            "tags": [],
            "needs_background": "light"
          }
        }
      ]
    }
  ]
}